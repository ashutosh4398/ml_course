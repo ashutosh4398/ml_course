{
 "cells": [
  {
   "cell_type": "markdown",
   "id": "f4aae2c7",
   "metadata": {},
   "source": [
    "# _Statistics basic assignment_"
   ]
  },
  {
   "cell_type": "markdown",
   "id": "262fda13",
   "metadata": {},
   "source": [
    "---"
   ]
  },
  {
   "cell_type": "markdown",
   "id": "f9a25b58",
   "metadata": {},
   "source": [
    "**Q1. What is Statistics?**"
   ]
  },
  {
   "cell_type": "markdown",
   "id": "fdfcefbf",
   "metadata": {},
   "source": [
    "- Statistics is the science of collecting, organizing and analyzing data\n",
    "- It helps in decision making"
   ]
  },
  {
   "cell_type": "markdown",
   "id": "e8ef64de",
   "metadata": {},
   "source": [
    "---"
   ]
  },
  {
   "cell_type": "markdown",
   "id": "e0545101",
   "metadata": {},
   "source": [
    "**Q2. Define the different types of statistics and give an example of when each type might be used.**"
   ]
  },
  {
   "cell_type": "markdown",
   "id": "6d2bc48c",
   "metadata": {},
   "source": [
    "Statistics can be divided into two types\n",
    "- **Descriptive Statistics**\n",
    "- **Inferential Statistics**\n",
    "\n",
    "1. _**Descriptive Statistics**_\n",
    "    - It is used to summarize data\n",
    "    - Eg: Calculating central tendency, measure of dispersion, distributions, etc.\n",
    "  \n",
    "  \n",
    "2. _**Inferential Statistics**_\n",
    "    - Used to make some conclusion about population data using sample\n",
    "    - Eg: Using hypothesis testing using z-test, t-test, etc."
   ]
  },
  {
   "cell_type": "markdown",
   "id": "251b03e1",
   "metadata": {},
   "source": [
    "---"
   ]
  },
  {
   "cell_type": "markdown",
   "id": "0cdf126d",
   "metadata": {},
   "source": [
    "**Q3. What are the different types of data and how do they differ from each other? Provide an example of\n",
    "each type of data.**"
   ]
  },
  {
   "cell_type": "markdown",
   "id": "1e759c79",
   "metadata": {},
   "source": [
    "Data can be divided majorly into following types\n",
    "1. **Quantitative Data**\n",
    "    - Data on which we can perform some arithmetic operations\n",
    "    - This can be further divided into two types\n",
    "      \n",
    "    1. **_Discrete_:**\n",
    "        - Data having some kind of range/limit in the value\n",
    "        - Eg. Number of bank accounts a person has\n",
    "        - It is typically a whole number\n",
    "     \n",
    "    2. **_Continuous_:**\n",
    "        - This type can have any floating/integer value\n",
    "        - Eg: weight 72.5 Kg, etc.\n",
    "    \n",
    "    \n",
    "2. **Qualitative Data**\n",
    "    - It can be treated as categorical data\n",
    "    - Non-numeric values like gender [male/female], etc.\n",
    "    - This can be further broken down into two types\n",
    "    1. **_Nominal_:**\n",
    "        - There is no ordering/relation between categories\n",
    "        - Eg: gender [male, female], colors [red, green, etc]\n",
    "        \n",
    "    2. **_Ordinal_:**\n",
    "        - There exists some kind of ranking between the categories\n",
    "        - Eg: reviews[Good > Better > Bad], etc."
   ]
  },
  {
   "cell_type": "markdown",
   "id": "f085a661",
   "metadata": {},
   "source": [
    "---"
   ]
  },
  {
   "cell_type": "markdown",
   "id": "f02e02d6",
   "metadata": {},
   "source": [
    "**Q4. Categorise the following datasets with respect to quantitative and qualitative data types:**\n",
    "1. Grading in exam: A+, A, B+, B, C+, C, D, E - **_Qualitative(Ordinal)_**\n",
    "2. Colour of mangoes: yellow, green, orange, red - **_Qualitative(Ordinal)_**\n",
    "3. Height data of a class: [178.9, 179, 179.5, 176, 177.2, 178.3, 175.8,...] - **_Quantitative(Continuous)_**\n",
    "4. Number of mangoes exported by a farm: [500, 600, 478, 672, ...] - **_Quantitative(Discrete)_**"
   ]
  },
  {
   "cell_type": "markdown",
   "id": "004ea749",
   "metadata": {},
   "source": [
    "---"
   ]
  },
  {
   "cell_type": "markdown",
   "id": "374bdde4",
   "metadata": {},
   "source": [
    "**Q5. Explain the concept of levels of measurement and give an example of a variable for each level.**"
   ]
  },
  {
   "cell_type": "markdown",
   "id": "a1411fb4",
   "metadata": {},
   "source": [
    "- Level of measurement helps us to decide what type of statistical analysis needs to be performed on given data.\n",
    "- There are **four** levels as follows:\n",
    "  \n",
    "1. **Nominal Scale Data**:\n",
    "    - Qualitative/Categorical data\n",
    "    - Ordering does not exists\n",
    "    - **Eg: Gender [male/female]**\n",
    "  \n",
    "  \n",
    "2. **Ordinal Scale Data:**\n",
    "    - Qualitative/Categorical data\n",
    "    - Ordering/Ranking exists\n",
    "    - **Eg: Reviews[Good > Better > Bad]**\n",
    "  \n",
    "  \n",
    "3. **Interval Scale Data:**\n",
    "    - Quantitative data\n",
    "    - Difference can be calculated\n",
    "    - Ratio does not have meaning\n",
    "    - True \"0\" value does not exists\n",
    "    - **Eg: Temperatures [10F, -30F, 50F, ...]**\n",
    "  \n",
    "  \n",
    "4. **Ratio Scale Data:**\n",
    "    - Quantitative data\n",
    "    - Difference can be calculated\n",
    "    - Ratios have some meaning\n",
    "    - True \"0\" value exists\n",
    "    - **Eg: Marks obtained by students, length of rivers**"
   ]
  },
  {
   "cell_type": "markdown",
   "id": "278f87ad",
   "metadata": {},
   "source": [
    "---"
   ]
  },
  {
   "cell_type": "markdown",
   "id": "d94c6b1f",
   "metadata": {},
   "source": [
    "**Q6. Why is it important to understand the level of measurement when analyzing data? Provide an\n",
    "example to illustrate your answer.**"
   ]
  },
  {
   "cell_type": "markdown",
   "id": "775ed4ce",
   "metadata": {},
   "source": [
    "Level of measurement helps us to identify which type of statistical analysis to be performed on data\n",
    "Eg:\n",
    "1. Hypothesis testing using chi-squared test can be performed on Nominal scale data which aims to determine \n",
    "whether there is significant difference between expected frequency and observed frequency\n",
    "(ref: https://corporatefinanceinstitute.com/resources/data-science/nominal-data/#:~:text=For%20nominal%20data%2C%20hypothesis%20testing,frequency%20of%20the%20given%20values.)\n",
    "2. Ordinal scale data can be analyzed using descriptive statistics as follows\n",
    "    - frequency distribution of categories\n",
    "    - mode to identify central tendancy\n",
    "(Ref: https://www.scribbr.com/statistics/ordinal-data/)\n",
    "3. Interval scale data can also be analyzed using descriptive statistics as follows:\n",
    "    - frequency distribution\n",
    "    - mean, median and mode to identify central tendency\n",
    "    - variance and standard deviation to identify measure of dispersion\n",
    "    - (ref: https://www.scribbr.com/statistics/interval-data/#:~:text=To%20get%20an%20overview%20of,variance%20to%20indicate%20the%20variability.)"
   ]
  },
  {
   "cell_type": "markdown",
   "id": "7b94868f",
   "metadata": {},
   "source": [
    "---"
   ]
  },
  {
   "cell_type": "markdown",
   "id": "1a48ce04",
   "metadata": {},
   "source": [
    "**Q7. How nominal data type is different from ordinal data type.**"
   ]
  },
  {
   "cell_type": "markdown",
   "id": "b7bfb712",
   "metadata": {},
   "source": [
    "Both nominal and ordinal data are categorical in nature.\n",
    "However, in **Nominal**, there is no specific ordering/ranking between categories\n",
    "while in **Ordinal**, there is some ordering/ranking between categories\n",
    "\n",
    "\n",
    "| Nominal Data Type | Ordinal Data Type |\n",
    "| ---               | ---               |\n",
    "| Ordering between categories **does not exists** | Ordering between categories **exists**|\n",
    "| eg: Gender, numbers on player jersy | eg: Rating, student grades (A+, A, B, etc)\n"
   ]
  },
  {
   "cell_type": "markdown",
   "id": "2549f512",
   "metadata": {},
   "source": [
    "---"
   ]
  },
  {
   "cell_type": "markdown",
   "id": "888a5be8",
   "metadata": {},
   "source": [
    "**Q8. Which type of plot can be used to display data in terms of range?**"
   ]
  },
  {
   "cell_type": "markdown",
   "id": "d8f1e321",
   "metadata": {},
   "source": [
    "Histogram can be used for such scenarios"
   ]
  },
  {
   "cell_type": "markdown",
   "id": "c0a53c54",
   "metadata": {},
   "source": [
    "---"
   ]
  },
  {
   "cell_type": "markdown",
   "id": "f7bdff72",
   "metadata": {},
   "source": [
    "**Q9. Describe the difference between descriptive and inferential statistics. Give an example of each\n",
    "type of statistics and explain how they are used.**"
   ]
  },
  {
   "cell_type": "markdown",
   "id": "a24c929d",
   "metadata": {},
   "source": [
    "Descriptive Statistics:\n",
    "- Used for summarizing data\n",
    "- Here we make use of central tendancy, measure of dispersion to analyze data\n",
    "- Eg:\n",
    "    1. We can identify the mean, median of given data\n",
    "    2. Calculate spread of data using variance and standard deviation\n",
    "    3. Identify which type of distribution the given data follows and grab some insights from the \n",
    "       assumptions that come along with each distribution, eg Emperical law of Normal distribution, etc.\n",
    "\n",
    "Inferential Statistics:\n",
    "- Used to conclude some facts about population using sample data\n",
    "- Eg:\n",
    "    1. Whether the average height of students in class is similar to average height of students in college\n",
    "    2. Using hypothesis testing\n"
   ]
  },
  {
   "cell_type": "markdown",
   "id": "dea85d01",
   "metadata": {},
   "source": [
    "---"
   ]
  },
  {
   "cell_type": "markdown",
   "id": "fba30f24",
   "metadata": {},
   "source": [
    "**Q10. What are some common measures of central tendency and variability used in statistics? Explain\n",
    "how each measure can be used to describe a dataset.**"
   ]
  },
  {
   "cell_type": "markdown",
   "id": "16a96d24",
   "metadata": {},
   "source": [
    "Common measures of central tendency:\n",
    "- Mean - Average value of given points\n",
    "- Median - Approx mean in case there are some outliers present in data\n",
    "- Mode - Most frequently occuring categorical value, can be used to handle missing data in case of categorical feature\n",
    "\n",
    "Common measure of variability:\n",
    "- Variance - Useful in identifying the spread of the distribution of data\n",
    "- Standard Distribution - Used for identifying distance between mean and each data point\n",
    "\n"
   ]
  }
 ],
 "metadata": {
  "kernelspec": {
   "display_name": "Python 3 (ipykernel)",
   "language": "python",
   "name": "python3"
  },
  "language_info": {
   "codemirror_mode": {
    "name": "ipython",
    "version": 3
   },
   "file_extension": ".py",
   "mimetype": "text/x-python",
   "name": "python",
   "nbconvert_exporter": "python",
   "pygments_lexer": "ipython3",
   "version": "3.9.7"
  }
 },
 "nbformat": 4,
 "nbformat_minor": 5
}
