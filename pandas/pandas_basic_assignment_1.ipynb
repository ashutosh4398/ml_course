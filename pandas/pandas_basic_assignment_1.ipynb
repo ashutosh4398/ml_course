{
 "cells": [
  {
   "cell_type": "code",
   "execution_count": 10,
   "id": "2e034bdb",
   "metadata": {},
   "outputs": [],
   "source": [
    "import pandas as pd"
   ]
  },
  {
   "cell_type": "markdown",
   "id": "7b1275cf",
   "metadata": {},
   "source": [
    "**Q1) Create a Pandas Series that contains the following data: 4, 8, 15, 16, 23, and 42. Then, print the series.**"
   ]
  },
  {
   "cell_type": "code",
   "execution_count": 11,
   "id": "0c8bd5e0",
   "metadata": {},
   "outputs": [
    {
     "data": {
      "text/plain": [
       "0     4\n",
       "1     8\n",
       "2    15\n",
       "3    16\n",
       "4    23\n",
       "5    42\n",
       "dtype: int64"
      ]
     },
     "execution_count": 11,
     "metadata": {},
     "output_type": "execute_result"
    }
   ],
   "source": [
    "data = [4,8,15,16,23,42]\n",
    "series = pd.Series(data)\n",
    "series"
   ]
  },
  {
   "cell_type": "code",
   "execution_count": 12,
   "id": "996dcfd8",
   "metadata": {},
   "outputs": [
    {
     "data": {
      "text/plain": [
       "pandas.core.series.Series"
      ]
     },
     "execution_count": 12,
     "metadata": {},
     "output_type": "execute_result"
    }
   ],
   "source": [
    "type(series)"
   ]
  },
  {
   "cell_type": "markdown",
   "id": "3d68978b",
   "metadata": {},
   "source": [
    "**Q2) Create a variable of list type containing 10 elements in it, and apply pandas.Series function on the\n",
    "variable print it.**"
   ]
  },
  {
   "cell_type": "code",
   "execution_count": 13,
   "id": "7be49a55",
   "metadata": {},
   "outputs": [
    {
     "data": {
      "text/plain": [
       "0    81\n",
       "1    83\n",
       "2    75\n",
       "3     5\n",
       "4    84\n",
       "5    27\n",
       "6    36\n",
       "7    38\n",
       "8    90\n",
       "9    49\n",
       "dtype: int64"
      ]
     },
     "execution_count": 13,
     "metadata": {},
     "output_type": "execute_result"
    }
   ],
   "source": [
    "import random as r\n",
    "test_elements = [r.randint(1,100) for i in range(10)]\n",
    "series = pd.Series(test_elements)\n",
    "series"
   ]
  },
  {
   "cell_type": "code",
   "execution_count": 14,
   "id": "d606a406",
   "metadata": {},
   "outputs": [
    {
     "data": {
      "text/plain": [
       "pandas.core.series.Series"
      ]
     },
     "execution_count": 14,
     "metadata": {},
     "output_type": "execute_result"
    }
   ],
   "source": [
    "type(series)"
   ]
  },
  {
   "cell_type": "markdown",
   "id": "077d4b16",
   "metadata": {},
   "source": [
    "**Q3) Create a Pandas DataFrame that contains the following data:**\n",
    "\n",
    "---\n",
    "|Name  |Age|Gender|\n",
    "|---   |---|---   |\n",
    "|Alice |25 |Female|\n",
    "|Bob   |30 |Male  |\n",
    "|Claire|27 |Female|"
   ]
  },
  {
   "cell_type": "code",
   "execution_count": 15,
   "id": "d3043ff5",
   "metadata": {},
   "outputs": [
    {
     "data": {
      "text/html": [
       "<div>\n",
       "<style scoped>\n",
       "    .dataframe tbody tr th:only-of-type {\n",
       "        vertical-align: middle;\n",
       "    }\n",
       "\n",
       "    .dataframe tbody tr th {\n",
       "        vertical-align: top;\n",
       "    }\n",
       "\n",
       "    .dataframe thead th {\n",
       "        text-align: right;\n",
       "    }\n",
       "</style>\n",
       "<table border=\"1\" class=\"dataframe\">\n",
       "  <thead>\n",
       "    <tr style=\"text-align: right;\">\n",
       "      <th></th>\n",
       "      <th>Name</th>\n",
       "      <th>Age</th>\n",
       "      <th>Gender</th>\n",
       "    </tr>\n",
       "  </thead>\n",
       "  <tbody>\n",
       "    <tr>\n",
       "      <th>0</th>\n",
       "      <td>Alice</td>\n",
       "      <td>25</td>\n",
       "      <td>Female</td>\n",
       "    </tr>\n",
       "    <tr>\n",
       "      <th>1</th>\n",
       "      <td>Bob</td>\n",
       "      <td>30</td>\n",
       "      <td>Male</td>\n",
       "    </tr>\n",
       "    <tr>\n",
       "      <th>2</th>\n",
       "      <td>Claire</td>\n",
       "      <td>27</td>\n",
       "      <td>Female</td>\n",
       "    </tr>\n",
       "  </tbody>\n",
       "</table>\n",
       "</div>"
      ],
      "text/plain": [
       "     Name  Age  Gender\n",
       "0   Alice   25  Female\n",
       "1     Bob   30    Male\n",
       "2  Claire   27  Female"
      ]
     },
     "execution_count": 15,
     "metadata": {},
     "output_type": "execute_result"
    }
   ],
   "source": [
    "data = [\n",
    "    ['Alice', 25, 'Female'],\n",
    "    ['Bob', 30, 'Male'],\n",
    "    ['Claire', 27, 'Female']\n",
    "]\n",
    "\n",
    "df = pd.DataFrame(data, columns=['Name', 'Age', 'Gender'])\n",
    "df.head()"
   ]
  },
  {
   "cell_type": "markdown",
   "id": "7157426e",
   "metadata": {},
   "source": [
    "**Q4) What is ‘DataFrame’ in pandas and how is it different from pandas.series? Explain with an example.**"
   ]
  },
  {
   "cell_type": "markdown",
   "id": "ff40f40b",
   "metadata": {},
   "source": [
    "Dataframe is a 2D structure similar to excel sheet or SQL table where the data is organized in terms of \n",
    "rows and columns.\n",
    "\n",
    "However, series is a 1D structure similar to list.\n",
    "\n",
    "Ideally in versions before 1.5.0, series used to be value-mutable but size-immutable which means you cannot add/remove elements in series, while dataframe is both size-mutable and value-mutable\n",
    "\n",
    "However, in pandas 1.5.0, series is also size and value mutable.\n"
   ]
  },
  {
   "cell_type": "code",
   "execution_count": 16,
   "id": "d110cd4b",
   "metadata": {},
   "outputs": [
    {
     "name": "stdout",
     "output_type": "stream",
     "text": [
      "      Name  Age  Gender\n",
      "ml   Alice   25  Female\n",
      "dl     Bob   30    Male\n",
      "ai  Claire   27  Female\n"
     ]
    }
   ],
   "source": [
    "data = [\n",
    "    ['Alice', 25, 'Female'],\n",
    "    ['Bob', 30, 'Male'],\n",
    "    ['Claire', 27, 'Female']\n",
    "]\n",
    "\n",
    "df = pd.DataFrame(data, columns=['Name', 'Age', 'Gender'], index=['ml','dl','ai'])\n",
    "print(df)"
   ]
  },
  {
   "cell_type": "code",
   "execution_count": 17,
   "id": "2ba3058d",
   "metadata": {},
   "outputs": [
    {
     "name": "stdout",
     "output_type": "stream",
     "text": [
      "0    1\n",
      "1    2\n",
      "2    3\n",
      "dtype: int64\n"
     ]
    }
   ],
   "source": [
    "series = pd.Series([1,2,3])\n",
    "print(series)"
   ]
  },
  {
   "cell_type": "code",
   "execution_count": 18,
   "id": "af69de3f",
   "metadata": {},
   "outputs": [
    {
     "name": "stdout",
     "output_type": "stream",
     "text": [
      "1.5.0\n",
      "0           1\n",
      "1           2\n",
      "2           3\n",
      "3    pwskills\n",
      "dtype: object\n"
     ]
    }
   ],
   "source": [
    "series[3] = 'pwskills'\n",
    "print(pd.__version__)\n",
    "print(series)"
   ]
  },
  {
   "cell_type": "markdown",
   "id": "efda9d9b",
   "metadata": {},
   "source": [
    "**Q5) What are some common functions you can use to manipulate data in a Pandas DataFrame? Can\n",
    "you give an example of when you might use one of these functions?**"
   ]
  },
  {
   "cell_type": "code",
   "execution_count": 19,
   "id": "14185996",
   "metadata": {},
   "outputs": [],
   "source": [
    "data = [\n",
    "    ['Alice', 25, 'Female'],\n",
    "    ['Bob', 30, 'Male'],\n",
    "    ['Claire', 27, 'Female']\n",
    "]\n",
    "\n",
    "df = pd.DataFrame(data, columns=['Name', 'Age', 'Gender'])"
   ]
  },
  {
   "cell_type": "code",
   "execution_count": 20,
   "id": "98e5bbc1",
   "metadata": {},
   "outputs": [
    {
     "data": {
      "text/html": [
       "<div>\n",
       "<style scoped>\n",
       "    .dataframe tbody tr th:only-of-type {\n",
       "        vertical-align: middle;\n",
       "    }\n",
       "\n",
       "    .dataframe tbody tr th {\n",
       "        vertical-align: top;\n",
       "    }\n",
       "\n",
       "    .dataframe thead th {\n",
       "        text-align: right;\n",
       "    }\n",
       "</style>\n",
       "<table border=\"1\" class=\"dataframe\">\n",
       "  <thead>\n",
       "    <tr style=\"text-align: right;\">\n",
       "      <th></th>\n",
       "      <th>Name</th>\n",
       "      <th>Age</th>\n",
       "      <th>Gender</th>\n",
       "      <th>age</th>\n",
       "    </tr>\n",
       "  </thead>\n",
       "  <tbody>\n",
       "    <tr>\n",
       "      <th>0</th>\n",
       "      <td>Alice</td>\n",
       "      <td>25</td>\n",
       "      <td>Female</td>\n",
       "      <td>25</td>\n",
       "    </tr>\n",
       "    <tr>\n",
       "      <th>1</th>\n",
       "      <td>Bob</td>\n",
       "      <td>30</td>\n",
       "      <td>Male</td>\n",
       "      <td>25</td>\n",
       "    </tr>\n",
       "    <tr>\n",
       "      <th>2</th>\n",
       "      <td>Claire</td>\n",
       "      <td>27</td>\n",
       "      <td>Female</td>\n",
       "      <td>25</td>\n",
       "    </tr>\n",
       "  </tbody>\n",
       "</table>\n",
       "</div>"
      ],
      "text/plain": [
       "     Name  Age  Gender  age\n",
       "0   Alice   25  Female   25\n",
       "1     Bob   30    Male   25\n",
       "2  Claire   27  Female   25"
      ]
     },
     "execution_count": 20,
     "metadata": {},
     "output_type": "execute_result"
    }
   ],
   "source": [
    "# creating new column in dataframe\n",
    "df['age'] = 25\n",
    "df"
   ]
  },
  {
   "cell_type": "code",
   "execution_count": 21,
   "id": "30d65740",
   "metadata": {},
   "outputs": [],
   "source": [
    "# .apply() on series\n",
    "df['binary_gender'] = df['Gender'].apply(lambda x: 1 if x=='Male' else 0)"
   ]
  },
  {
   "cell_type": "code",
   "execution_count": 22,
   "id": "59770e55",
   "metadata": {},
   "outputs": [
    {
     "data": {
      "text/html": [
       "<div>\n",
       "<style scoped>\n",
       "    .dataframe tbody tr th:only-of-type {\n",
       "        vertical-align: middle;\n",
       "    }\n",
       "\n",
       "    .dataframe tbody tr th {\n",
       "        vertical-align: top;\n",
       "    }\n",
       "\n",
       "    .dataframe thead th {\n",
       "        text-align: right;\n",
       "    }\n",
       "</style>\n",
       "<table border=\"1\" class=\"dataframe\">\n",
       "  <thead>\n",
       "    <tr style=\"text-align: right;\">\n",
       "      <th></th>\n",
       "      <th>Name</th>\n",
       "      <th>Age</th>\n",
       "      <th>Gender</th>\n",
       "      <th>age</th>\n",
       "      <th>binary_gender</th>\n",
       "    </tr>\n",
       "  </thead>\n",
       "  <tbody>\n",
       "    <tr>\n",
       "      <th>0</th>\n",
       "      <td>Alice</td>\n",
       "      <td>25</td>\n",
       "      <td>Female</td>\n",
       "      <td>25</td>\n",
       "      <td>0</td>\n",
       "    </tr>\n",
       "    <tr>\n",
       "      <th>1</th>\n",
       "      <td>Bob</td>\n",
       "      <td>30</td>\n",
       "      <td>Male</td>\n",
       "      <td>25</td>\n",
       "      <td>1</td>\n",
       "    </tr>\n",
       "    <tr>\n",
       "      <th>2</th>\n",
       "      <td>Claire</td>\n",
       "      <td>27</td>\n",
       "      <td>Female</td>\n",
       "      <td>25</td>\n",
       "      <td>0</td>\n",
       "    </tr>\n",
       "  </tbody>\n",
       "</table>\n",
       "</div>"
      ],
      "text/plain": [
       "     Name  Age  Gender  age  binary_gender\n",
       "0   Alice   25  Female   25              0\n",
       "1     Bob   30    Male   25              1\n",
       "2  Claire   27  Female   25              0"
      ]
     },
     "execution_count": 22,
     "metadata": {},
     "output_type": "execute_result"
    }
   ],
   "source": [
    "df"
   ]
  },
  {
   "cell_type": "code",
   "execution_count": 24,
   "id": "a10997e0",
   "metadata": {},
   "outputs": [],
   "source": [
    "# dropping column\n",
    "df = df.drop('age', axis=1)"
   ]
  },
  {
   "cell_type": "code",
   "execution_count": 25,
   "id": "4d74c3b4",
   "metadata": {},
   "outputs": [
    {
     "data": {
      "text/html": [
       "<div>\n",
       "<style scoped>\n",
       "    .dataframe tbody tr th:only-of-type {\n",
       "        vertical-align: middle;\n",
       "    }\n",
       "\n",
       "    .dataframe tbody tr th {\n",
       "        vertical-align: top;\n",
       "    }\n",
       "\n",
       "    .dataframe thead th {\n",
       "        text-align: right;\n",
       "    }\n",
       "</style>\n",
       "<table border=\"1\" class=\"dataframe\">\n",
       "  <thead>\n",
       "    <tr style=\"text-align: right;\">\n",
       "      <th></th>\n",
       "      <th>Name</th>\n",
       "      <th>Age</th>\n",
       "      <th>Gender</th>\n",
       "      <th>binary_gender</th>\n",
       "    </tr>\n",
       "  </thead>\n",
       "  <tbody>\n",
       "    <tr>\n",
       "      <th>0</th>\n",
       "      <td>Alice</td>\n",
       "      <td>25</td>\n",
       "      <td>Female</td>\n",
       "      <td>0</td>\n",
       "    </tr>\n",
       "    <tr>\n",
       "      <th>1</th>\n",
       "      <td>Bob</td>\n",
       "      <td>30</td>\n",
       "      <td>Male</td>\n",
       "      <td>1</td>\n",
       "    </tr>\n",
       "    <tr>\n",
       "      <th>2</th>\n",
       "      <td>Claire</td>\n",
       "      <td>27</td>\n",
       "      <td>Female</td>\n",
       "      <td>0</td>\n",
       "    </tr>\n",
       "  </tbody>\n",
       "</table>\n",
       "</div>"
      ],
      "text/plain": [
       "     Name  Age  Gender  binary_gender\n",
       "0   Alice   25  Female              0\n",
       "1     Bob   30    Male              1\n",
       "2  Claire   27  Female              0"
      ]
     },
     "execution_count": 25,
     "metadata": {},
     "output_type": "execute_result"
    }
   ],
   "source": [
    "df"
   ]
  },
  {
   "cell_type": "code",
   "execution_count": 26,
   "id": "a8331bac",
   "metadata": {},
   "outputs": [
    {
     "data": {
      "text/html": [
       "<div>\n",
       "<style scoped>\n",
       "    .dataframe tbody tr th:only-of-type {\n",
       "        vertical-align: middle;\n",
       "    }\n",
       "\n",
       "    .dataframe tbody tr th {\n",
       "        vertical-align: top;\n",
       "    }\n",
       "\n",
       "    .dataframe thead th {\n",
       "        text-align: right;\n",
       "    }\n",
       "</style>\n",
       "<table border=\"1\" class=\"dataframe\">\n",
       "  <thead>\n",
       "    <tr style=\"text-align: right;\">\n",
       "      <th></th>\n",
       "      <th>Name</th>\n",
       "      <th>Age</th>\n",
       "      <th>Gender</th>\n",
       "      <th>binary_gender</th>\n",
       "    </tr>\n",
       "  </thead>\n",
       "  <tbody>\n",
       "    <tr>\n",
       "      <th>0</th>\n",
       "      <td>Alice</td>\n",
       "      <td>25</td>\n",
       "      <td>Female</td>\n",
       "      <td>0</td>\n",
       "    </tr>\n",
       "    <tr>\n",
       "      <th>1</th>\n",
       "      <td>Bob</td>\n",
       "      <td>30</td>\n",
       "      <td>Male</td>\n",
       "      <td>1</td>\n",
       "    </tr>\n",
       "  </tbody>\n",
       "</table>\n",
       "</div>"
      ],
      "text/plain": [
       "    Name  Age  Gender  binary_gender\n",
       "0  Alice   25  Female              0\n",
       "1    Bob   30    Male              1"
      ]
     },
     "execution_count": 26,
     "metadata": {},
     "output_type": "execute_result"
    }
   ],
   "source": [
    "# dropping row\n",
    "df = df.drop(2, axis=0)\n",
    "df"
   ]
  },
  {
   "cell_type": "code",
   "execution_count": 31,
   "id": "22bdc363",
   "metadata": {},
   "outputs": [
    {
     "data": {
      "text/html": [
       "<div>\n",
       "<style scoped>\n",
       "    .dataframe tbody tr th:only-of-type {\n",
       "        vertical-align: middle;\n",
       "    }\n",
       "\n",
       "    .dataframe tbody tr th {\n",
       "        vertical-align: top;\n",
       "    }\n",
       "\n",
       "    .dataframe thead th {\n",
       "        text-align: right;\n",
       "    }\n",
       "</style>\n",
       "<table border=\"1\" class=\"dataframe\">\n",
       "  <thead>\n",
       "    <tr style=\"text-align: right;\">\n",
       "      <th></th>\n",
       "      <th>Name</th>\n",
       "      <th>binary_gender</th>\n",
       "    </tr>\n",
       "  </thead>\n",
       "  <tbody>\n",
       "    <tr>\n",
       "      <th>1</th>\n",
       "      <td>Bob</td>\n",
       "      <td>1</td>\n",
       "    </tr>\n",
       "  </tbody>\n",
       "</table>\n",
       "</div>"
      ],
      "text/plain": [
       "  Name  binary_gender\n",
       "1  Bob              1"
      ]
     },
     "execution_count": 31,
     "metadata": {},
     "output_type": "execute_result"
    }
   ],
   "source": [
    "# slicing data with selected columns\n",
    "df.loc[1:, ['Name', 'binary_gender']]"
   ]
  },
  {
   "cell_type": "code",
   "execution_count": 36,
   "id": "c334ba55",
   "metadata": {},
   "outputs": [],
   "source": [
    "# updating value\n",
    "df.loc[1, 'Name'] = 'dev'"
   ]
  },
  {
   "cell_type": "code",
   "execution_count": 37,
   "id": "f362ad2f",
   "metadata": {},
   "outputs": [
    {
     "data": {
      "text/html": [
       "<div>\n",
       "<style scoped>\n",
       "    .dataframe tbody tr th:only-of-type {\n",
       "        vertical-align: middle;\n",
       "    }\n",
       "\n",
       "    .dataframe tbody tr th {\n",
       "        vertical-align: top;\n",
       "    }\n",
       "\n",
       "    .dataframe thead th {\n",
       "        text-align: right;\n",
       "    }\n",
       "</style>\n",
       "<table border=\"1\" class=\"dataframe\">\n",
       "  <thead>\n",
       "    <tr style=\"text-align: right;\">\n",
       "      <th></th>\n",
       "      <th>Name</th>\n",
       "      <th>Age</th>\n",
       "      <th>Gender</th>\n",
       "      <th>binary_gender</th>\n",
       "    </tr>\n",
       "  </thead>\n",
       "  <tbody>\n",
       "    <tr>\n",
       "      <th>0</th>\n",
       "      <td>Alice</td>\n",
       "      <td>25</td>\n",
       "      <td>Female</td>\n",
       "      <td>0</td>\n",
       "    </tr>\n",
       "    <tr>\n",
       "      <th>1</th>\n",
       "      <td>dev</td>\n",
       "      <td>30</td>\n",
       "      <td>Male</td>\n",
       "      <td>1</td>\n",
       "    </tr>\n",
       "  </tbody>\n",
       "</table>\n",
       "</div>"
      ],
      "text/plain": [
       "    Name  Age  Gender  binary_gender\n",
       "0  Alice   25  Female              0\n",
       "1    dev   30    Male              1"
      ]
     },
     "execution_count": 37,
     "metadata": {},
     "output_type": "execute_result"
    }
   ],
   "source": [
    "df"
   ]
  },
  {
   "cell_type": "markdown",
   "id": "3d419cf8",
   "metadata": {},
   "source": [
    "**Q6) Which of the following is mutable in nature Series, DataFrame, Panel?**"
   ]
  },
  {
   "cell_type": "markdown",
   "id": "721ed622",
   "metadata": {},
   "source": [
    "Both series and dataframes are size and value mutable in version 1.5.0.\n",
    "In older versions of pandas, series was size-immutable which means no element could be added/removed.\n",
    "\n",
    "Panel on the other hand is mutable which was being used in older versions and is now deprecated and no longer \n",
    "being used, instead we use MultiIndex"
   ]
  },
  {
   "cell_type": "markdown",
   "id": "9198c89a",
   "metadata": {},
   "source": [
    "**Q7. Create a DataFrame using multiple Series. Explain with an example.**"
   ]
  },
  {
   "cell_type": "code",
   "execution_count": 51,
   "id": "2013a47e",
   "metadata": {},
   "outputs": [],
   "source": [
    "names = pd.Series(['Alice', 'Bob', 'John'])\n",
    "ages = pd.Series([23, 25, 27])\n",
    "gender = pd.Series(['Female', 'Male', 'Male'])\n",
    "\n",
    "df = pd.DataFrame({\"names\": names, \"ages\": ages, \"gender\": gender})"
   ]
  },
  {
   "cell_type": "code",
   "execution_count": 52,
   "id": "a4ddab33",
   "metadata": {},
   "outputs": [
    {
     "data": {
      "text/html": [
       "<div>\n",
       "<style scoped>\n",
       "    .dataframe tbody tr th:only-of-type {\n",
       "        vertical-align: middle;\n",
       "    }\n",
       "\n",
       "    .dataframe tbody tr th {\n",
       "        vertical-align: top;\n",
       "    }\n",
       "\n",
       "    .dataframe thead th {\n",
       "        text-align: right;\n",
       "    }\n",
       "</style>\n",
       "<table border=\"1\" class=\"dataframe\">\n",
       "  <thead>\n",
       "    <tr style=\"text-align: right;\">\n",
       "      <th></th>\n",
       "      <th>names</th>\n",
       "      <th>ages</th>\n",
       "      <th>gender</th>\n",
       "    </tr>\n",
       "  </thead>\n",
       "  <tbody>\n",
       "    <tr>\n",
       "      <th>0</th>\n",
       "      <td>Alice</td>\n",
       "      <td>23</td>\n",
       "      <td>Female</td>\n",
       "    </tr>\n",
       "    <tr>\n",
       "      <th>1</th>\n",
       "      <td>Bob</td>\n",
       "      <td>25</td>\n",
       "      <td>Male</td>\n",
       "    </tr>\n",
       "    <tr>\n",
       "      <th>2</th>\n",
       "      <td>John</td>\n",
       "      <td>27</td>\n",
       "      <td>Male</td>\n",
       "    </tr>\n",
       "  </tbody>\n",
       "</table>\n",
       "</div>"
      ],
      "text/plain": [
       "   names  ages  gender\n",
       "0  Alice    23  Female\n",
       "1    Bob    25    Male\n",
       "2   John    27    Male"
      ]
     },
     "execution_count": 52,
     "metadata": {},
     "output_type": "execute_result"
    }
   ],
   "source": [
    "df"
   ]
  }
 ],
 "metadata": {
  "kernelspec": {
   "display_name": "Python 3 (ipykernel)",
   "language": "python",
   "name": "python3"
  },
  "language_info": {
   "codemirror_mode": {
    "name": "ipython",
    "version": 3
   },
   "file_extension": ".py",
   "mimetype": "text/x-python",
   "name": "python",
   "nbconvert_exporter": "python",
   "pygments_lexer": "ipython3",
   "version": "3.9.7"
  }
 },
 "nbformat": 4,
 "nbformat_minor": 5
}
